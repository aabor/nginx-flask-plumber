{
 "cells": [
  {
   "cell_type": "code",
   "execution_count": 5,
   "metadata": {},
   "outputs": [],
   "source": [
    "import sys\n",
    "import os\n",
    "import logging\n",
    "import json\n",
    "import pandas as pd\n",
    "import numpy as np\n",
    "import string\n",
    "import random\n",
    "import math\n",
    "import time\n",
    "import re\n",
    "from datetime import datetime\n",
    "from datetime import date\n",
    "from datetime import timedelta\n",
    "from datetime import timezone\n",
    "from pytz import timezone\n",
    "import pytz\n",
    "import pause\n",
    "import humanfriendly\n",
    "from tabulate import tabulate\n",
    "from tabulate import tabulate\n",
    "from selenium import webdriver\n",
    "from selenium.webdriver.common.desired_capabilities import DesiredCapabilities\n",
    "from selenium.webdriver.common.keys import Keys\n",
    "from selenium.webdriver.common.by import By\n",
    "from selenium.webdriver.support.ui import WebDriverWait\n",
    "from selenium.webdriver.support import expected_conditions as EC\n",
    "from flask import Flask, jsonify, request, url_for\n",
    "from flask import Flask, session\n",
    "from flask_session import Session\n",
    "import xmlrunner\n",
    "import requests"
   ]
  },
  {
   "cell_type": "code",
   "execution_count": 7,
   "metadata": {},
   "outputs": [
    {
     "name": "stderr",
     "output_type": "stream",
     "text": [
      "\n",
      "Running tests...\n",
      "----------------------------------------------------------------------\n",
      "....S\n",
      "----------------------------------------------------------------------\n",
      "Ran 5 tests in 0.000s\n",
      "\n",
      "OK (skipped=1)\n",
      "\n",
      "Generating XML reports...\n"
     ]
    }
   ],
   "source": [
    "try:\n",
    "    import unittest2 as unittest\n",
    "except ImportError:\n",
    "    import unittest\n",
    "\n",
    "class PnewsTest(unittest.TestCase):\n",
    "#     @unittest.skip(\"demonstrating skipping\")\n",
    "#     def test_skipped(self):\n",
    "#         self.fail(\"shouldn't happen\")\n",
    "\n",
    "    def test_pass_assert_equal(self):\n",
    "        self.assertEqual(10, 7 + 3)\n",
    "\n",
    "    def test_pass_not_equal(self):\n",
    "        self.assertNotEqual(11, 7 + 3)\n",
    "\n",
    "    # def test_fail(self):\n",
    "    #     self.assertEqual(11, 7 + 3)\n",
    "\n",
    "\n",
    "if __name__ == '__main__':\n",
    "    unittest.main(testRunner=xmlrunner.XMLTestRunner(output='test-reports'), \n",
    "                  argv=['first-arg-is-ignored'], \n",
    "                  verbosity=3,\n",
    "                  exit=False)"
   ]
  },
  {
   "cell_type": "code",
   "execution_count": null,
   "metadata": {},
   "outputs": [],
   "source": []
  }
 ],
 "metadata": {
  "kernelspec": {
   "display_name": "Python 3",
   "language": "python",
   "name": "python3"
  },
  "language_info": {
   "codemirror_mode": {
    "name": "ipython",
    "version": 3
   },
   "file_extension": ".py",
   "mimetype": "text/x-python",
   "name": "python",
   "nbconvert_exporter": "python",
   "pygments_lexer": "ipython3",
   "version": "3.6.7"
  }
 },
 "nbformat": 4,
 "nbformat_minor": 2
}
