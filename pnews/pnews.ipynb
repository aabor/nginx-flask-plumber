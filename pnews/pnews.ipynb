{
 "cells": [
  {
   "cell_type": "markdown",
   "metadata": {},
   "source": [
    "# Init"
   ]
  },
  {
   "cell_type": "code",
   "execution_count": 1,
   "metadata": {},
   "outputs": [
    {
     "name": "stderr",
     "output_type": "stream",
     "text": [
      "2019-01-28 19:41:13:INFO:pnews:service started\n"
     ]
    }
   ],
   "source": [
    "import sys\n",
    "import os\n",
    "import shutil\n",
    "import logging\n",
    "# DEBUG: Detailed information, typically of interest only when diagnosing problems.\n",
    "# INFO: Confirmation that things are working as expected.\n",
    "# WARNING: An indication that something unexpected happened, or indicative of some problem in the near future (e.g. ‘disk space low’). The software is still working as expected.\n",
    "# ERROR: Due to a more serious problem, the software has not been able to perform some function.\n",
    "# CRITICAL: A serious error, indicating that the program itself may be unable to continue running.\n",
    "import json\n",
    "import pandas as pd\n",
    "import numpy as np\n",
    "import string\n",
    "import random\n",
    "import math\n",
    "import time\n",
    "import re\n",
    "from datetime import datetime\n",
    "from datetime import date\n",
    "from datetime import timedelta\n",
    "from datetime import timezone\n",
    "from pytz import timezone\n",
    "import pytz\n",
    "import pause\n",
    "import humanfriendly\n",
    "from bs4 import BeautifulSoup\n",
    "from tabulate import tabulate\n",
    "from selenium import webdriver\n",
    "from selenium.webdriver.common.desired_capabilities import DesiredCapabilities\n",
    "from selenium.webdriver.common.keys import Keys\n",
    "from selenium.webdriver.common.by import By\n",
    "from selenium.webdriver.support.ui import WebDriverWait\n",
    "from selenium.webdriver.support import expected_conditions as EC\n",
    "from flask import Flask, jsonify, request, url_for\n",
    "from flask import Flask, session\n",
    "from flask_session import Session\n",
    "import requests\n",
    "working_time_zone='Europe/Kiev'\n",
    "alpari_date_format=\"%m/%d/%Y\"\n",
    "fh_time_format=\"%Y-%m-%d %H:%M:%S\"\n",
    "fh_date_format='%Y-%m-%d'\n",
    "os.environ['TZ'] = working_time_zone\n",
    "time.tzset()\n",
    "work_dir=os.getcwd()\n",
    "log_path=os.path.dirname(work_dir)\n",
    "log_file=os.path.join(log_path, os.path.basename(log_path) + '.log')\n",
    "open(log_file, 'w').close()\n",
    "os.chmod(log_file, 0o775)\n",
    "def echo(msg, function_name=\"\", level=\"info\"):\n",
    "    if function_name==\"\":\n",
    "        logger = logging.getLogger('pnews')\n",
    "    else:\n",
    "        logger = logging.getLogger('pnews' + '.' + function_name)\n",
    "    if level==\"info\":\n",
    "        logger.info(msg)\n",
    "    if level==\"warn\":\n",
    "        logger.warning(msg)\n",
    "    if level==\"error\":\n",
    "        logger.error(msg)\n",
    "logging.getLogger().setLevel(logging.INFO)\n",
    "logger = logging.getLogger('')\n",
    "logger.handlers = []\n",
    "try:\n",
    "    logger = logging.getLogger('pnews')\n",
    "    logger.handlers = []\n",
    "    fh = logging.FileHandler(log_file)\n",
    "    fh.setLevel(logging.INFO)\n",
    "    ch = logging.StreamHandler()\n",
    "    ch.setLevel(logging.INFO)\n",
    "    formatter = logging.Formatter('%(asctime)s:%(levelname)s:%(name)s:%(message)s', \n",
    "                                  datefmt=fh_time_format)\n",
    "    fh.setFormatter(formatter)\n",
    "    ch.setFormatter(formatter)\n",
    "    logger.addHandler(fh)\n",
    "    logger.addHandler(ch)\n",
    "    logger.info('service started')\n",
    "except Exception as e:\n",
    "        print(\"Exception \" + str(e))"
   ]
  },
  {
   "cell_type": "code",
   "execution_count": 2,
   "metadata": {},
   "outputs": [
    {
     "data": {
      "text/plain": [
       "<flask_session.Session at 0x7fe79afc5390>"
      ]
     },
     "execution_count": 2,
     "metadata": {},
     "output_type": "execute_result"
    }
   ],
   "source": [
    "app = Flask(__name__)\n",
    "app.debug = True\n",
    "SESSION_TYPE = 'filesystem'\n",
    "app.config.from_object(__name__)\n",
    "Session(app)"
   ]
  },
  {
   "cell_type": "markdown",
   "metadata": {},
   "source": [
    "# Flask routes"
   ]
  },
  {
   "cell_type": "code",
   "execution_count": 3,
   "metadata": {},
   "outputs": [],
   "source": [
    "# Main page\n",
    "# curl -i http://localhost:80/pnews/\n",
    "@app.route('/')\n",
    "def flask_index():\n",
    "    echo(\"main page opened.\", \"pnews\")\n",
    "    return \"Service pnews (language python) is ready!\\r\\n\"\n",
    "# Health check\n",
    "# curl -i http://localhost:80/pnews/health\n",
    "@app.route('/health')\n",
    "def flask_health():\n",
    "    echo(\"checked.\", \"health\")\n",
    "    return 'Healthy\\r\\n'\n",
    "# Echo\n",
    "# curl -i http://localhost:80/pnews/echo?msg=hello\n",
    "@app.route('/echo', methods=['GET'])\n",
    "def flask_echo(): \n",
    "    msg=request.args.get('msg', '')\n",
    "    echo(msg, \"echo\")\n",
    "    return jsonify(msg='The message is: \"' + msg + '\"\\r\\n')\n",
    "# Pause \n",
    "# curl -i http://localhost:80/pnews/pause/2\n",
    "@app.route('/pause/<int:duration>', methods=['GET'])\n",
    "def flask_pause(duration):\n",
    "    echo(\"Pause \" + str(duration) + \" seconds\", \"pause\")\n",
    "    dt=datetime.now()+timedelta(seconds=duration)\n",
    "    pause.until(dt)\n",
    "    return \"Pause of \" + str(duration) + ' seconds finished\\r\\n'\n",
    "@app.route('/open_browser')\n",
    "def flask_open_browser():\n",
    "    driver, text=open_browser()\n",
    "    session[\"driver\"]=driver\n",
    "    return \"Browser opened\\r\\n\" + text\n",
    "@app.route('/close_browser')\n",
    "def flask_close_browser():\n",
    "    close_browser(session[\"driver\"])\n",
    "    return \"Browser closed\\r\\n\"\n",
    "@app.route('/test_connectivity')\n",
    "def flask_test_connectivity():\n",
    "    pass"
   ]
  },
  {
   "cell_type": "code",
   "execution_count": 4,
   "metadata": {},
   "outputs": [
    {
     "name": "stdout",
     "output_type": "stream",
     "text": [
      "/echo\n",
      "/close_browser\n",
      "/close_browser?next=%2F\n",
      "/pause/2\n"
     ]
    }
   ],
   "source": [
    "with app.test_request_context():\n",
    "    print(url_for('flask_echo'))\n",
    "    print(url_for('flask_close_browser'))\n",
    "    print(url_for('flask_close_browser', next='/'))\n",
    "    print(url_for('flask_pause', duration=2))"
   ]
  },
  {
   "cell_type": "markdown",
   "metadata": {},
   "source": [
    "# Testing"
   ]
  },
  {
   "cell_type": "code",
   "execution_count": 5,
   "metadata": {},
   "outputs": [],
   "source": [
    "def create_test_df():\n",
    "    date_rng = pd.date_range(start='2019-01-24', end='2019-01-25', freq='H')\n",
    "    l=len(date_rng)\n",
    "    dts = pd.to_datetime(date_rng, format=fh_time_format)  \n",
    "    hashes=[''.join(random.choice(string.ascii_uppercase + string.digits) for _ in range(3)) for x in range(l)]\n",
    "    ns=list(range(l))\n",
    "    vs=random.sample(range(100), l)\n",
    "    d={'dt': dts, \"event\":hashes, \"number\": ns, \"value\": vs}\n",
    "    df=pd.DataFrame(d)\n",
    "    df['dt']=[dt.strftime('%Y-%m-%d %H:%M:%S') for dt in df.dt]\n",
    "    return df"
   ]
  },
  {
   "cell_type": "code",
   "execution_count": 6,
   "metadata": {},
   "outputs": [],
   "source": [
    "def write_request_json(out_file='test.json'):\n",
    "    df=create_test_df()\n",
    "    df.head()\n",
    "    df.to_json(out_file)\n",
    "    df1=pd.read_json(out_file)\n",
    "    df1.head()"
   ]
  },
  {
   "cell_type": "code",
   "execution_count": 7,
   "metadata": {},
   "outputs": [],
   "source": [
    "def read_response_json(in_file='response.json'):\n",
    "    df=pd.read_json(in_file)\n",
    "    df.head()"
   ]
  },
  {
   "cell_type": "markdown",
   "metadata": {},
   "source": [
    "# Browser automation"
   ]
  },
  {
   "cell_type": "code",
   "execution_count": 8,
   "metadata": {},
   "outputs": [],
   "source": [
    "def open_browser(sleep_time=10):\n",
    "    print ('start opening browser')\n",
    "    cap = DesiredCapabilities.CHROME\n",
    "    driver = webdriver.Remote(command_executor='http://selenium-hub:4444/wd/hub',desired_capabilities=cap) \n",
    "    url=\"https://www.google.com\"\n",
    "    print ('Opening URL: ' + url + ' waiting approximately ' + str(sleep_time))\n",
    "    driver.get(url)\n",
    "    wait = WebDriverWait(driver, sleep_time)\n",
    "    element = wait.until(EC.visibility_of_element_located((By.CSS_SELECTOR, '.gLFyf')))    \n",
    "    print ('browser opened')\n",
    "    text=driver.find_element_by_xpath(\"html\").text\n",
    "    print (text)\n",
    "    return driver, text\n",
    "def close_browser(driver):\n",
    "    print ('closing chrome driver')\n",
    "    driver.quit()\n",
    "    print ('driver closed')"
   ]
  },
  {
   "cell_type": "markdown",
   "metadata": {},
   "source": [
    "# Main"
   ]
  },
  {
   "cell_type": "code",
   "execution_count": null,
   "metadata": {},
   "outputs": [],
   "source": [
    "try:\n",
    "    if __name__ == '__main__':\n",
    "            app.run(host='0.0.0.0', port=5000) # open url http://0.0.0.0:5000/\n",
    "except Exception as e:\n",
    "    print('Exception starting flask app: ' + str(e))\n",
    "pass "
   ]
  },
  {
   "cell_type": "code",
   "execution_count": null,
   "metadata": {},
   "outputs": [],
   "source": [
    "!echo $GIT_VERSION"
   ]
  },
  {
   "cell_type": "code",
   "execution_count": 9,
   "metadata": {},
   "outputs": [
    {
     "name": "stdout",
     "output_type": "stream",
     "text": [
      "<Response [200]>\n"
     ]
    }
   ],
   "source": [
    "#session = requests.Session()\n",
    "#session.trust_env = False\n",
    "url='http://pnews:5000'\n",
    "resp = requests.get(url)\n",
    "#ret = session.get(url)\n",
    "print(resp)"
   ]
  },
  {
   "cell_type": "code",
   "execution_count": null,
   "metadata": {},
   "outputs": [],
   "source": []
  }
 ],
 "metadata": {
  "kernelspec": {
   "display_name": "Python 3",
   "language": "python",
   "name": "python3"
  },
  "language_info": {
   "codemirror_mode": {
    "name": "ipython",
    "version": 3
   },
   "file_extension": ".py",
   "mimetype": "text/x-python",
   "name": "python",
   "nbconvert_exporter": "python",
   "pygments_lexer": "ipython3",
   "version": "3.6.7"
  }
 },
 "nbformat": 4,
 "nbformat_minor": 2
}
