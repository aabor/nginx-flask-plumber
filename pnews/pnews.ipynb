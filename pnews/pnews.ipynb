{
 "cells": [
  {
   "cell_type": "code",
   "execution_count": 16,
   "metadata": {},
   "outputs": [
    {
     "name": "stderr",
     "output_type": "stream",
     "text": [
      "2019-01-23 12:09:23:news_service:INFO:service started\n",
      "INFO:news_service:service started\n",
      "2019-01-23 12:09:23:news_service.update:INFO:something happend\n",
      "INFO:news_service.update:something happend\n"
     ]
    },
    {
     "name": "stdout",
     "output_type": "stream",
     "text": [
      "/home/jovyan/work/R/news-service\n",
      "2019-01-23 12:09:23.497226\n",
      "log path is /home/jovyan/work/R/news-service/fh.log\n",
      "<Logger news_service (INFO)>\n"
     ]
    }
   ],
   "source": [
    "import sys\n",
    "import os\n",
    "import shutil\n",
    "import logging\n",
    "# DEBUG: Detailed information, typically of interest only when diagnosing problems.\n",
    "# INFO: Confirmation that things are working as expected.\n",
    "# WARNING: An indication that something unexpected happened, or indicative of some problem in the near future (e.g. ‘disk space low’). The software is still working as expected.\n",
    "# ERROR: Due to a more serious problem, the software has not been able to perform some function.\n",
    "# CRITICAL: A serious error, indicating that the program itself may be unable to continue running.\n",
    "import json\n",
    "import pandas as pd\n",
    "import numpy as np\n",
    "import math\n",
    "import time\n",
    "import re\n",
    "from datetime import datetime\n",
    "from datetime import date\n",
    "from datetime import timedelta\n",
    "from datetime import timezone\n",
    "from pytz import timezone\n",
    "import pytz\n",
    "import pause\n",
    "import humanfriendly\n",
    "from bs4 import BeautifulSoup\n",
    "from tabulate import tabulate\n",
    "from selenium import webdriver\n",
    "from selenium.webdriver.common.desired_capabilities import DesiredCapabilities\n",
    "from selenium.webdriver.common.keys import Keys\n",
    "from selenium.webdriver.common.by import By\n",
    "from selenium.webdriver.support.ui import WebDriverWait\n",
    "from selenium.webdriver.support import expected_conditions as EC\n",
    "from flask import Flask, jsonify\n",
    "from flask import Flask, session\n",
    "from flask_session import Session\n",
    "from werkzeug.wrappers import Request, Response\n",
    "log_file='fh.log'\n",
    "working_time_zone='Europe/Kiev'\n",
    "alpari_date_format=\"%m/%d/%Y\"\n",
    "fh_time_format=\"%Y-%m-%d %H:%M:%S\"\n",
    "fh_date_format='%Y-%m-%d'\n",
    "os.environ['TZ'] = working_time_zone\n",
    "time.tzset()\n",
    "if os.path.isdir(\"/home/jovyan/work/R/news-service\"):\n",
    "    work_dir=os.chdir(\"/home/jovyan/work/R/news-service\")\n",
    "work_dir=os.getcwd()\n",
    "print(work_dir)\n",
    "print(datetime.now())\n",
    "log_path=os.path.join(work_dir,log_file)\n",
    "print(\"log path is \" + log_path)\n",
    "open(log_path, 'w').close()\n",
    "logging.getLogger().setLevel(logging.INFO)\n",
    "logger = logging.getLogger('news_service')\n",
    "logger.handlers = []\n",
    "fh = logging.FileHandler(log_path)\n",
    "fh.setLevel(logging.INFO)\n",
    "ch = logging.StreamHandler()\n",
    "ch.setLevel(logging.INFO)\n",
    "formatter = logging.Formatter('%(asctime)s:%(name)s:%(levelname)s:%(message)s', \n",
    "                              datefmt=fh_time_format)\n",
    "fh.setFormatter(formatter)\n",
    "ch.setFormatter(formatter)\n",
    "logger.addHandler(fh)\n",
    "logger.addHandler(ch)\n",
    "print(logger)\n",
    "logger.info('service started')\n",
    "logger = logging.getLogger('news_service.update')\n",
    "logger.info('something happend')"
   ]
  },
  {
   "cell_type": "code",
   "execution_count": 2,
   "metadata": {},
   "outputs": [
    {
     "data": {
      "text/plain": [
       "<flask_session.Session at 0x7fee2c224f28>"
      ]
     },
     "execution_count": 2,
     "metadata": {},
     "output_type": "execute_result"
    }
   ],
   "source": [
    "app = Flask(__name__)\n",
    "app.debug = True\n",
    "SESSION_TYPE = 'filesystem'\n",
    "app.config.from_object(__name__)\n",
    "Session(app)"
   ]
  },
  {
   "cell_type": "code",
   "execution_count": 3,
   "metadata": {},
   "outputs": [],
   "source": [
    "@app.route('/')\n",
    "def index():\n",
    "    return \"News service written in python is ready!\\r\\n\"\n",
    "@app.route('/sleep')\n",
    "def sl():\n",
    "    print('Sleeping!')\n",
    "    time.sleep(10000)\n",
    "    return \"Sleep finished\\r\\n\"\n",
    "@app.route('/open_browser')\n",
    "def flask_open_browser():\n",
    "    driver, text=open_browser()\n",
    "    session[\"driver\"]=driver\n",
    "    return \"Browser opened\\r\\n\" + text\n",
    "@app.route('/close_browser')\n",
    "def flask_close_browser():\n",
    "    close_browser(session[\"driver\"])\n",
    "    return \"Browser closed\\r\\n\"\n",
    "@app.route('/pause')\n",
    "def flask_pause():\n",
    "    print(\"Pause for 10 seconds\")\n",
    "    dt=datetime.now()+timedelta(seconds=10)\n",
    "    pause.until(dt)\n",
    "    return('Pause finished\\r\\n')"
   ]
  },
  {
   "cell_type": "code",
   "execution_count": 4,
   "metadata": {},
   "outputs": [],
   "source": [
    "def open_browser(sleep_time=10):\n",
    "    print ('start opening browser')\n",
    "    cap = DesiredCapabilities.CHROME\n",
    "    driver = webdriver.Remote(command_executor='http://selenium-hub:4444/wd/hub',desired_capabilities=cap) \n",
    "    url=\"https://www.google.com\"\n",
    "    print ('Opening URL: ' + url + ' waiting approximately ' + str(sleep_time))\n",
    "    driver.get(url)\n",
    "    wait = WebDriverWait(driver, sleep_time)\n",
    "    element = wait.until(EC.visibility_of_element_located((By.CSS_SELECTOR, '.gLFyf')))    \n",
    "    print ('browser opened')\n",
    "    text=driver.find_element_by_xpath(\"html\").text\n",
    "    print (text)\n",
    "    return driver, text\n",
    "def close_browser(driver):\n",
    "    print ('closing chrome driver')\n",
    "    driver.quit()\n",
    "    print ('driver closed')"
   ]
  },
  {
   "cell_type": "code",
   "execution_count": 7,
   "metadata": {},
   "outputs": [
    {
     "name": "stdout",
     "output_type": "stream",
     "text": [
      " * Serving Flask app \"__main__\" (lazy loading)\n",
      " * Environment: production\n",
      "   WARNING: Do not use the development server in a production environment.\n",
      "   Use a production WSGI server instead.\n",
      " * Debug mode: on\n",
      "Exception starting flask app: [Errno 98] Address already in use\n"
     ]
    }
   ],
   "source": [
    "try:\n",
    "    if __name__ == '__main__':\n",
    "            app.run(host='0.0.0.0', port=5000) # open url http://0.0.0.0:5000/\n",
    "except Exception as e:\n",
    "    print('Exception starting flask app: ' + str(e))\n",
    "pass "
   ]
  },
  {
   "cell_type": "code",
   "execution_count": 18,
   "metadata": {},
   "outputs": [
    {
     "name": "stdout",
     "output_type": "stream",
     "text": [
      "\n"
     ]
    }
   ],
   "source": [
    "!echo $GIT_VERSION"
   ]
  },
  {
   "cell_type": "code",
   "execution_count": null,
   "metadata": {},
   "outputs": [],
   "source": []
  }
 ],
 "metadata": {
  "kernelspec": {
   "display_name": "Python 3",
   "language": "python",
   "name": "python3"
  },
  "language_info": {
   "codemirror_mode": {
    "name": "ipython",
    "version": 3
   },
   "file_extension": ".py",
   "mimetype": "text/x-python",
   "name": "python",
   "nbconvert_exporter": "python",
   "pygments_lexer": "ipython3",
   "version": "3.6.7"
  }
 },
 "nbformat": 4,
 "nbformat_minor": 2
}
