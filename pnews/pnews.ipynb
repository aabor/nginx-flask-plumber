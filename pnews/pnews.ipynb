{
 "cells": [
  {
   "cell_type": "markdown",
   "metadata": {},
   "source": [
    "# Init"
   ]
  },
  {
   "cell_type": "code",
   "execution_count": 23,
   "metadata": {},
   "outputs": [
    {
     "name": "stdout",
     "output_type": "stream",
     "text": [
      "/home/jovyan/work/R/nginx-flask-plumber\n"
     ]
    }
   ],
   "source": [
    "import sys\n",
    "import os\n",
    "import io\n",
    "import shutil\n",
    "import logging, logging.config, yaml\n",
    "from logging.handlers import RotatingFileHandler\n",
    "from logging import Formatter, FileHandler, StreamHandler\n",
    "import json\n",
    "import pandas as pd\n",
    "import numpy as np\n",
    "import string\n",
    "from io import StringIO\n",
    "import random\n",
    "import math\n",
    "import time\n",
    "import re\n",
    "from datetime import datetime\n",
    "from datetime import date\n",
    "from datetime import timedelta\n",
    "from datetime import timezone\n",
    "from pytz import timezone\n",
    "import pytz\n",
    "import pause\n",
    "import humanfriendly\n",
    "from bs4 import BeautifulSoup\n",
    "from tabulate import tabulate\n",
    "from selenium import webdriver\n",
    "from selenium.webdriver.common.desired_capabilities import DesiredCapabilities\n",
    "from selenium.webdriver.common.keys import Keys\n",
    "from selenium.webdriver.common.by import By\n",
    "from selenium.webdriver.support.ui import WebDriverWait\n",
    "from selenium.webdriver.support import expected_conditions as EC\n",
    "from flask import Flask, session, render_template, request, jsonify, redirect, g, url_for\n",
    "from flask_session import Session\n",
    "import requests\n",
    "working_time_zone='Europe/Kiev'\n",
    "alpari_date_format=\"%m/%d/%Y\"\n",
    "fh_time_format=\"%Y-%m-%d %H:%M:%S\"\n",
    "fh_date_format='%Y-%m-%d'\n",
    "os.environ['TZ'] = working_time_zone\n",
    "time.tzset()\n",
    "work_dir=os.getcwd()\n",
    "if 'nginx-flask-plumber' != os.path.basename(work_dir):\n",
    "    os.chdir(os.path.dirname(work_dir))\n",
    "work_dir=os.getcwd()\n",
    "print(work_dir)"
   ]
  },
  {
   "cell_type": "code",
   "execution_count": 11,
   "metadata": {},
   "outputs": [
    {
     "name": "stdout",
     "output_type": "stream",
     "text": [
      "/home/jovyan/work/R/nginx-flask-plumber/nginx-flask-plumber.log\n"
     ]
    }
   ],
   "source": [
    "app = Flask(__name__)\n",
    "app.debug = True\n",
    "log_file=os.path.join(work_dir, os.path.basename(work_dir) + '.log')\n",
    "print(log_file)\n",
    "open(log_file, 'w').close()\n",
    "os.chmod(log_file, 0o665)\n",
    "formatter = Formatter('%(asctime)s:%(levelname)s:%(module)s:%(funcName)s:%(lineno)d:%(message)s', \n",
    "                              datefmt=fh_time_format)\n",
    "handler = RotatingFileHandler(log_file, maxBytes=10000, backupCount=1)\n",
    "handler.setLevel(logging.INFO)\n",
    "handler.setFormatter(formatter)\n",
    "app.logger.addHandler(handler)"
   ]
  },
  {
   "cell_type": "markdown",
   "metadata": {},
   "source": [
    "# Flask routes"
   ]
  },
  {
   "cell_type": "code",
   "execution_count": 12,
   "metadata": {},
   "outputs": [],
   "source": [
    "# Main page\n",
    "# curl -i http://localhost:80/pnews/\n",
    "@app.route('/')\n",
    "def flask_index():\n",
    "    app.logger.info(\"main page opened.\")\n",
    "    return \"Service pnews (language python) is ready!\\r\\n\"\n",
    "# Health check\n",
    "# curl -i http://localhost:80/pnews/health\n",
    "@app.route('/health')\n",
    "def flask_health():\n",
    "    app.logger.info(\"checked.\")\n",
    "    return 'Healthy\\r\\n'\n",
    "# Echo\n",
    "# curl -i http://localhost:80/pnews/echo?msg=hello\n",
    "@app.route('/echo', methods=['GET'])\n",
    "def flask_echo(): \n",
    "    msg=request.args.get('msg', '')\n",
    "    app.logger.info(msg)\n",
    "    return jsonify(msg='The message is: \"' + msg + '\"\\r\\n')\n",
    "# Pause \n",
    "# curl -i http://localhost:80/pnews/pause/2\n",
    "@app.route('/pause/<int:duration>', methods=['GET'])\n",
    "def flask_pause(duration):\n",
    "    app.logger.info(\"Pause \" + str(duration) + \" seconds\")\n",
    "    dt=datetime.now()+timedelta(seconds=duration)\n",
    "    pause.until(dt)\n",
    "    return \"Pause of \" + str(duration) + ' seconds finished'\n",
    "@app.route('/browser_session')\n",
    "def flask_browser_session():\n",
    "    driver=open_browser()\n",
    "    close_browser(driver)\n",
    "    msg=\"browser session stopped\"\n",
    "    app.logger.info(msg)\n",
    "    return msg\n",
    "# @app.route('/open_browser')\n",
    "# def flask_open_browser():\n",
    "#     driver=open_browser()\n",
    "#     session['driver']=driver\n",
    "#     return 'browser opened see log for text content'\n",
    "# @app.route('/close_browser')\n",
    "# def flask_close_browser():\n",
    "#     driver=session['driver']\n",
    "#     close_browser(driver)\n",
    "#     return \"closed\"\n",
    "@app.route('/test_connectivity')\n",
    "def flask_test_connectivity():\n",
    "    app.logger.info('started')\n",
    "    msg='finished successfully'\n",
    "    app.logger.info(msg)\n",
    "    return msg\n",
    "@app.route('/text_message', methods=['POST'])\n",
    "def flask_text_message():\n",
    "    json=request.get_json()\n",
    "    df=accept_text_data(json)\n",
    "    head=df.head()\n",
    "    app.logger.info(head.to_csv())"
   ]
  },
  {
   "cell_type": "markdown",
   "metadata": {},
   "source": [
    "# Testing"
   ]
  },
  {
   "cell_type": "code",
   "execution_count": 13,
   "metadata": {},
   "outputs": [],
   "source": [
    "def create_test_df():\n",
    "    date_rng = pd.date_range(start='2019-01-24', end='2019-01-25', freq='H')\n",
    "    l=len(date_rng)\n",
    "    dts = pd.to_datetime(date_rng, format=fh_time_format)  \n",
    "    hashes=[''.join(random.choice(string.ascii_uppercase + string.digits) for _ in range(3)) for x in range(l)]\n",
    "    ns=list(range(l))\n",
    "    vs=random.sample(range(100), l)\n",
    "    d={'dt': dts, \"event\":hashes, \"number\": ns, \"value\": vs}\n",
    "    df=pd.DataFrame(d)\n",
    "    df['dt']=[dt.strftime('%Y-%m-%d %H:%M:%S') for dt in df.dt]\n",
    "    return df"
   ]
  },
  {
   "cell_type": "code",
   "execution_count": 17,
   "metadata": {},
   "outputs": [],
   "source": [
    "def create_test_series():\n",
    "    date_rng = pd.date_range(start='2019-01-24', end='2019-01-25', freq='H')\n",
    "    l=len(date_rng)\n",
    "    dts = pd.to_datetime(date_rng, format=fh_time_format)  \n",
    "    ns=list(range(l))\n",
    "    vs=random.sample(range(100), l)\n",
    "    d={'dt': dts, \"number\": ns, \"value\": vs}\n",
    "    df=pd.DataFrame(d)\n",
    "    df['dt']=[dt.strftime('%Y-%m-%d %H:%M:%S') for dt in df.dt]\n",
    "    return df"
   ]
  },
  {
   "cell_type": "code",
   "execution_count": 37,
   "metadata": {},
   "outputs": [],
   "source": [
    "def create_payload(data_type=\"sr\"):\n",
    "    output = StringIO()\n",
    "    if data_type == \"sr\":\n",
    "        df=create_test_df()\n",
    "        output.write(df.to_csv(index=False))\n",
    "    else:\n",
    "        sr=create_test_series()\n",
    "        output.write(sr.to_csv(index=False))\n",
    "    payload = {\"spec\":data_type, \"text\":output.getvalue()}\n",
    "    output.close()\n",
    "    return payload\n",
    "def post_text_data(data_type=\"sr\"):\n",
    "    payload=create_payload(data_type)\n",
    "    data=json.dumps(payload)\n",
    "    url=\"http://rnews:5000\"\n",
    "    url_path=os.path.join(url, \"text_message\")\n",
    "    r = requests.post(url_path, data=data)\n",
    "    if r.status_code == requests.codes.ok:\n",
    "        app.logger.info('data of type '+ data_type + 'posted to ' + url_path)\n",
    "    return r.status_code\n",
    "def accept_text_data(payload):\n",
    "    return pd.read_csv(StringIO(payload['text']))    "
   ]
  },
  {
   "cell_type": "code",
   "execution_count": 5,
   "metadata": {},
   "outputs": [],
   "source": [
    "def write_request_json(out_file='test.json'):\n",
    "    df=create_test_df()\n",
    "    df.head()\n",
    "    df.to_json(out_file)\n",
    "    df1=pd.read_json(out_file)\n",
    "    df1.head()"
   ]
  },
  {
   "cell_type": "code",
   "execution_count": 6,
   "metadata": {},
   "outputs": [],
   "source": [
    "def read_response_json(in_file='response.json'):\n",
    "    df=pd.read_json(in_file)\n",
    "    df.head()"
   ]
  },
  {
   "cell_type": "markdown",
   "metadata": {},
   "source": [
    "# Browser automation"
   ]
  },
  {
   "cell_type": "code",
   "execution_count": 7,
   "metadata": {},
   "outputs": [],
   "source": [
    "def open_browser(sleep_time=10):\n",
    "    app.logger.info('start opening browser')\n",
    "    cap = DesiredCapabilities.CHROME\n",
    "    driver = webdriver.Remote(command_executor='http://selenium-hub:4444/wd/hub',desired_capabilities=cap) \n",
    "    url=\"https://www.google.com\"\n",
    "    app.logger.info('Opening URL: ' + url + ' waiting approximately ' + str(sleep_time) + ' seconds')\n",
    "    driver.get(url)\n",
    "    wait = WebDriverWait(driver, sleep_time)\n",
    "    element = wait.until(EC.visibility_of_element_located((By.CSS_SELECTOR, '.gLFyf')))    \n",
    "    app.logger.info('done')\n",
    "    text=driver.find_element_by_xpath(\"html\").text\n",
    "    app.logger.info(\"Resulting text\\r\\n\" + text)\n",
    "    return driver\n",
    "def close_browser(driver):\n",
    "    driver.quit()\n",
    "    app.logger.info(\"closed\")"
   ]
  },
  {
   "cell_type": "markdown",
   "metadata": {},
   "source": [
    "# Main"
   ]
  },
  {
   "cell_type": "code",
   "execution_count": null,
   "metadata": {},
   "outputs": [
    {
     "name": "stdout",
     "output_type": "stream",
     "text": [
      " * Serving Flask app \"__main__\" (lazy loading)\n",
      " * Environment: production\n",
      "   WARNING: Do not use the development server in a production environment.\n",
      "   Use a production WSGI server instead.\n",
      " * Debug mode: off\n"
     ]
    },
    {
     "name": "stderr",
     "output_type": "stream",
     "text": [
      " * Running on http://0.0.0.0:5000/ (Press CTRL+C to quit)\n"
     ]
    }
   ],
   "source": [
    "if __name__ == '__main__':\n",
    "    app.run(host='0.0.0.0', port=5000) # open url http://0.0.0.0:5000/"
   ]
  },
  {
   "cell_type": "code",
   "execution_count": 17,
   "metadata": {},
   "outputs": [
    {
     "name": "stdout",
     "output_type": "stream",
     "text": [
      "/home/jovyan/work/R/nginx-flask-plumber\n",
      "/home/jovyan/work/R/nginx-flask-plumber\n",
      "/home/jovyan/work/R/nginx-flask-plumber/nginx-flask-plumber.log\n"
     ]
    }
   ],
   "source": [
    "# url=\"http://pnews:5000\"\n",
    "# r = requests.get(os.path.join(url, 'open_browser'))\n",
    "# r.status_code == requests.codes.ok"
   ]
  },
  {
   "cell_type": "code",
   "execution_count": null,
   "metadata": {},
   "outputs": [],
   "source": [
    "#  r.text"
   ]
  },
  {
   "cell_type": "code",
   "execution_count": null,
   "metadata": {},
   "outputs": [],
   "source": [
    "# print(os.getcwd())\n",
    "# file = open('error.html','w') \n",
    "# file.write(r.text) \n",
    "# file.close() "
   ]
  },
  {
   "cell_type": "code",
   "execution_count": null,
   "metadata": {},
   "outputs": [],
   "source": []
  }
 ],
 "metadata": {
  "kernelspec": {
   "display_name": "Python 3",
   "language": "python",
   "name": "python3"
  },
  "language_info": {
   "codemirror_mode": {
    "name": "ipython",
    "version": 3
   },
   "file_extension": ".py",
   "mimetype": "text/x-python",
   "name": "python",
   "nbconvert_exporter": "python",
   "pygments_lexer": "ipython3",
   "version": "3.6.7"
  }
 },
 "nbformat": 4,
 "nbformat_minor": 2
}
