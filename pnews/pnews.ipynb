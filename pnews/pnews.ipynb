{
 "cells": [
  {
   "cell_type": "markdown",
   "metadata": {},
   "source": [
    "# Init"
   ]
  },
  {
   "cell_type": "code",
   "execution_count": 22,
   "metadata": {},
   "outputs": [
    {
     "name": "stderr",
     "output_type": "stream",
     "text": [
      "2019-01-24 15:48:55:INFO:news_service:service started\n",
      "2019-01-24 15:48:55:INFO:news_service:/home/jovyan/work/R/nginx-flask-plumber\n",
      "2019-01-24 15:48:55:INFO:news_service:log path is /home/jovyan/work/R/nginx-flask-plumber/sample.log\n"
     ]
    },
    {
     "name": "stdout",
     "output_type": "stream",
     "text": [
      "2019-01-24 15:48:55.724366\n"
     ]
    }
   ],
   "source": [
    "import sys\n",
    "import os\n",
    "import shutil\n",
    "import logging\n",
    "# DEBUG: Detailed information, typically of interest only when diagnosing problems.\n",
    "# INFO: Confirmation that things are working as expected.\n",
    "# WARNING: An indication that something unexpected happened, or indicative of some problem in the near future (e.g. ‘disk space low’). The software is still working as expected.\n",
    "# ERROR: Due to a more serious problem, the software has not been able to perform some function.\n",
    "# CRITICAL: A serious error, indicating that the program itself may be unable to continue running.\n",
    "import json\n",
    "import pandas as pd\n",
    "import numpy as np\n",
    "import string\n",
    "import random\n",
    "import math\n",
    "import time\n",
    "import re\n",
    "from datetime import datetime\n",
    "from datetime import date\n",
    "from datetime import timedelta\n",
    "from datetime import timezone\n",
    "from pytz import timezone\n",
    "import pytz\n",
    "import pause\n",
    "import humanfriendly\n",
    "from bs4 import BeautifulSoup\n",
    "from tabulate import tabulate\n",
    "from selenium import webdriver\n",
    "from selenium.webdriver.common.desired_capabilities import DesiredCapabilities\n",
    "from selenium.webdriver.common.keys import Keys\n",
    "from selenium.webdriver.common.by import By\n",
    "from selenium.webdriver.support.ui import WebDriverWait\n",
    "from selenium.webdriver.support import expected_conditions as EC\n",
    "from flask import Flask, jsonify\n",
    "from flask import Flask, session\n",
    "from flask_session import Session\n",
    "from werkzeug.wrappers import Request, Response\n",
    "log_file='sample.log'\n",
    "working_time_zone='Europe/Kiev'\n",
    "alpari_date_format=\"%m/%d/%Y\"\n",
    "fh_time_format=\"%Y-%m-%d %H:%M:%S\"\n",
    "fh_date_format='%Y-%m-%d'\n",
    "os.environ['TZ'] = working_time_zone\n",
    "time.tzset()\n",
    "work_dir=os.getcwd()\n",
    "log_path=os.path.join(work_dir,log_file)\n",
    "open(log_path, 'w').close()\n",
    "os.chmod(log_path, 0o775)\n",
    "logging.getLogger().setLevel(logging.INFO)\n",
    "logger = logging.getLogger('news_service')\n",
    "logger.handlers = []\n",
    "fh = logging.FileHandler(log_path)\n",
    "fh.setLevel(logging.INFO)\n",
    "ch = logging.StreamHandler()\n",
    "ch.setLevel(logging.INFO)\n",
    "formatter = logging.Formatter('%(asctime)s:%(levelname)s:%(name)s:%(message)s', \n",
    "                              datefmt=fh_time_format)\n",
    "fh.setFormatter(formatter)\n",
    "ch.setFormatter(formatter)\n",
    "logger.addHandler(fh)\n",
    "logger.addHandler(ch)\n",
    "logger.info('service started')\n",
    "logger.info(work_dir)\n",
    "logger.info(\"log path is \" + log_path)\n",
    "print(datetime.now())"
   ]
  },
  {
   "cell_type": "code",
   "execution_count": 23,
   "metadata": {},
   "outputs": [
    {
     "data": {
      "text/plain": [
       "<flask_session.Session at 0x7f3bdf4b70b8>"
      ]
     },
     "execution_count": 23,
     "metadata": {},
     "output_type": "execute_result"
    }
   ],
   "source": [
    "app = Flask(__name__)\n",
    "app.debug = True\n",
    "SESSION_TYPE = 'filesystem'\n",
    "app.config.from_object(__name__)\n",
    "Session(app)"
   ]
  },
  {
   "cell_type": "markdown",
   "metadata": {},
   "source": [
    "# Flask routes"
   ]
  },
  {
   "cell_type": "code",
   "execution_count": 24,
   "metadata": {},
   "outputs": [],
   "source": [
    "@app.route('/echo')\n",
    "def flask_echo():\n",
    "    return \"News service written in python is ready!\\r\\n\"\n",
    "@app.route('/sleep')\n",
    "def flask_sleep():\n",
    "    print('Sleeping!')\n",
    "    time.sleep(10000)\n",
    "    return \"Sleep finished\\r\\n\"\n",
    "@app.route('/open_browser')\n",
    "def flask_open_browser():\n",
    "    driver, text=open_browser()\n",
    "    session[\"driver\"]=driver\n",
    "    return \"Browser opened\\r\\n\" + text\n",
    "@app.route('/close_browser')\n",
    "def flask_close_browser():\n",
    "    close_browser(session[\"driver\"])\n",
    "    return \"Browser closed\\r\\n\"\n",
    "@app.route('/pause')\n",
    "def flask_pause():\n",
    "    print(\"Pause for 10 seconds\")\n",
    "    dt=datetime.now()+timedelta(seconds=10)\n",
    "    pause.until(dt)\n",
    "    return('Pause finished\\r\\n')\n",
    "@app.route('/test_connectivity')\n",
    "def flask_test_connectivity():\n",
    "    print(\"Pause for 10 seconds\")\n",
    "    dt=datetime.now()+timedelta(seconds=10)\n",
    "    pause.until(dt)\n",
    "    return('Pause finished\\r\\n')"
   ]
  },
  {
   "cell_type": "markdown",
   "metadata": {},
   "source": [
    "# Testing"
   ]
  },
  {
   "cell_type": "code",
   "execution_count": 49,
   "metadata": {},
   "outputs": [],
   "source": [
    "def create_test_df():\n",
    "    date_rng = pd.date_range(start='2019-01-24', end='2019-01-25', freq='H')\n",
    "    l=len(date_rng)\n",
    "    dts = pd.to_datetime(date_rng, format=fh_time_format)  \n",
    "    hashes=[''.join(random.choice(string.ascii_uppercase + string.digits) for _ in range(3)) for x in range(l)]\n",
    "    ns=list(range(l))\n",
    "    vs=random.sample(range(100), l)\n",
    "    d={'dt': dts, \"event\":hashes, \"number\": ns, \"value\": vs}\n",
    "    df=pd.DataFrame(d)\n",
    "    df['dt']=[dt.strftime('%Y-%m-%d %H:%M:%S') for dt in df.dt]\n",
    "    return df"
   ]
  },
  {
   "cell_type": "code",
   "execution_count": 51,
   "metadata": {},
   "outputs": [
    {
     "data": {
      "text/html": [
       "<div>\n",
       "<style scoped>\n",
       "    .dataframe tbody tr th:only-of-type {\n",
       "        vertical-align: middle;\n",
       "    }\n",
       "\n",
       "    .dataframe tbody tr th {\n",
       "        vertical-align: top;\n",
       "    }\n",
       "\n",
       "    .dataframe thead th {\n",
       "        text-align: right;\n",
       "    }\n",
       "</style>\n",
       "<table border=\"1\" class=\"dataframe\">\n",
       "  <thead>\n",
       "    <tr style=\"text-align: right;\">\n",
       "      <th></th>\n",
       "      <th>dt</th>\n",
       "      <th>event</th>\n",
       "      <th>number</th>\n",
       "      <th>value</th>\n",
       "    </tr>\n",
       "  </thead>\n",
       "  <tbody>\n",
       "    <tr>\n",
       "      <th>0</th>\n",
       "      <td>2019-01-24 00:00:00</td>\n",
       "      <td>WNB</td>\n",
       "      <td>0</td>\n",
       "      <td>54</td>\n",
       "    </tr>\n",
       "    <tr>\n",
       "      <th>1</th>\n",
       "      <td>2019-01-24 01:00:00</td>\n",
       "      <td>HS5</td>\n",
       "      <td>1</td>\n",
       "      <td>79</td>\n",
       "    </tr>\n",
       "    <tr>\n",
       "      <th>10</th>\n",
       "      <td>2019-01-24 10:00:00</td>\n",
       "      <td>VQM</td>\n",
       "      <td>10</td>\n",
       "      <td>1</td>\n",
       "    </tr>\n",
       "    <tr>\n",
       "      <th>11</th>\n",
       "      <td>2019-01-24 11:00:00</td>\n",
       "      <td>TUB</td>\n",
       "      <td>11</td>\n",
       "      <td>6</td>\n",
       "    </tr>\n",
       "    <tr>\n",
       "      <th>12</th>\n",
       "      <td>2019-01-24 12:00:00</td>\n",
       "      <td>3DJ</td>\n",
       "      <td>12</td>\n",
       "      <td>97</td>\n",
       "    </tr>\n",
       "  </tbody>\n",
       "</table>\n",
       "</div>"
      ],
      "text/plain": [
       "                     dt event  number  value\n",
       "0   2019-01-24 00:00:00   WNB       0     54\n",
       "1   2019-01-24 01:00:00   HS5       1     79\n",
       "10  2019-01-24 10:00:00   VQM      10      1\n",
       "11  2019-01-24 11:00:00   TUB      11      6\n",
       "12  2019-01-24 12:00:00   3DJ      12     97"
      ]
     },
     "execution_count": 51,
     "metadata": {},
     "output_type": "execute_result"
    }
   ],
   "source": [
    "df=create_test_df()\n",
    "df.head()\n",
    "out_file='test.json'\n",
    "df.to_json(out_file)\n",
    "df1=pd.read_json(out_file)\n",
    "df1.head()"
   ]
  },
  {
   "cell_type": "code",
   "execution_count": 52,
   "metadata": {},
   "outputs": [
    {
     "data": {
      "text/html": [
       "<div>\n",
       "<style scoped>\n",
       "    .dataframe tbody tr th:only-of-type {\n",
       "        vertical-align: middle;\n",
       "    }\n",
       "\n",
       "    .dataframe tbody tr th {\n",
       "        vertical-align: top;\n",
       "    }\n",
       "\n",
       "    .dataframe thead th {\n",
       "        text-align: right;\n",
       "    }\n",
       "</style>\n",
       "<table border=\"1\" class=\"dataframe\">\n",
       "  <thead>\n",
       "    <tr style=\"text-align: right;\">\n",
       "      <th></th>\n",
       "      <th>dt</th>\n",
       "      <th>event</th>\n",
       "      <th>m</th>\n",
       "      <th>number</th>\n",
       "      <th>value</th>\n",
       "    </tr>\n",
       "  </thead>\n",
       "  <tbody>\n",
       "    <tr>\n",
       "      <th>0</th>\n",
       "      <td>2019-01-24 00:00:00</td>\n",
       "      <td>9H8</td>\n",
       "      <td>0</td>\n",
       "      <td>0</td>\n",
       "      <td>2</td>\n",
       "    </tr>\n",
       "    <tr>\n",
       "      <th>1</th>\n",
       "      <td>2019-01-24 01:00:00</td>\n",
       "      <td>5TO</td>\n",
       "      <td>21</td>\n",
       "      <td>1</td>\n",
       "      <td>21</td>\n",
       "    </tr>\n",
       "    <tr>\n",
       "      <th>2</th>\n",
       "      <td>2019-01-24 02:00:00</td>\n",
       "      <td>PE8</td>\n",
       "      <td>100</td>\n",
       "      <td>2</td>\n",
       "      <td>50</td>\n",
       "    </tr>\n",
       "    <tr>\n",
       "      <th>3</th>\n",
       "      <td>2019-01-24 03:00:00</td>\n",
       "      <td>QUI</td>\n",
       "      <td>195</td>\n",
       "      <td>3</td>\n",
       "      <td>65</td>\n",
       "    </tr>\n",
       "    <tr>\n",
       "      <th>4</th>\n",
       "      <td>2019-01-24 04:00:00</td>\n",
       "      <td>W5X</td>\n",
       "      <td>316</td>\n",
       "      <td>4</td>\n",
       "      <td>79</td>\n",
       "    </tr>\n",
       "  </tbody>\n",
       "</table>\n",
       "</div>"
      ],
      "text/plain": [
       "                    dt event    m  number  value\n",
       "0  2019-01-24 00:00:00   9H8    0       0      2\n",
       "1  2019-01-24 01:00:00   5TO   21       1     21\n",
       "2  2019-01-24 02:00:00   PE8  100       2     50\n",
       "3  2019-01-24 03:00:00   QUI  195       3     65\n",
       "4  2019-01-24 04:00:00   W5X  316       4     79"
      ]
     },
     "execution_count": 52,
     "metadata": {},
     "output_type": "execute_result"
    }
   ],
   "source": [
    "in_file='response.json'\n",
    "df=pd.read_json(in_file)\n",
    "df.head()"
   ]
  },
  {
   "cell_type": "markdown",
   "metadata": {},
   "source": [
    "# Browser automation"
   ]
  },
  {
   "cell_type": "code",
   "execution_count": 4,
   "metadata": {},
   "outputs": [],
   "source": [
    "def open_browser(sleep_time=10):\n",
    "    print ('start opening browser')\n",
    "    cap = DesiredCapabilities.CHROME\n",
    "    driver = webdriver.Remote(command_executor='http://selenium-hub:4444/wd/hub',desired_capabilities=cap) \n",
    "    url=\"https://www.google.com\"\n",
    "    print ('Opening URL: ' + url + ' waiting approximately ' + str(sleep_time))\n",
    "    driver.get(url)\n",
    "    wait = WebDriverWait(driver, sleep_time)\n",
    "    element = wait.until(EC.visibility_of_element_located((By.CSS_SELECTOR, '.gLFyf')))    \n",
    "    print ('browser opened')\n",
    "    text=driver.find_element_by_xpath(\"html\").text\n",
    "    print (text)\n",
    "    return driver, text\n",
    "def close_browser(driver):\n",
    "    print ('closing chrome driver')\n",
    "    driver.quit()\n",
    "    print ('driver closed')"
   ]
  },
  {
   "cell_type": "markdown",
   "metadata": {},
   "source": [
    "# Main"
   ]
  },
  {
   "cell_type": "code",
   "execution_count": 7,
   "metadata": {},
   "outputs": [
    {
     "name": "stdout",
     "output_type": "stream",
     "text": [
      " * Serving Flask app \"__main__\" (lazy loading)\n",
      " * Environment: production\n",
      "   WARNING: Do not use the development server in a production environment.\n",
      "   Use a production WSGI server instead.\n",
      " * Debug mode: on\n",
      "Exception starting flask app: [Errno 98] Address already in use\n"
     ]
    }
   ],
   "source": [
    "try:\n",
    "    if __name__ == '__main__':\n",
    "            app.run(host='0.0.0.0', port=5000) # open url http://0.0.0.0:5000/\n",
    "except Exception as e:\n",
    "    print('Exception starting flask app: ' + str(e))\n",
    "pass "
   ]
  },
  {
   "cell_type": "code",
   "execution_count": 18,
   "metadata": {},
   "outputs": [
    {
     "name": "stdout",
     "output_type": "stream",
     "text": [
      "\n"
     ]
    }
   ],
   "source": [
    "!echo $GIT_VERSION"
   ]
  },
  {
   "cell_type": "code",
   "execution_count": null,
   "metadata": {},
   "outputs": [],
   "source": []
  }
 ],
 "metadata": {
  "kernelspec": {
   "display_name": "Python 3",
   "language": "python",
   "name": "python3"
  },
  "language_info": {
   "codemirror_mode": {
    "name": "ipython",
    "version": 3
   },
   "file_extension": ".py",
   "mimetype": "text/x-python",
   "name": "python",
   "nbconvert_exporter": "python",
   "pygments_lexer": "ipython3",
   "version": "3.6.7"
  }
 },
 "nbformat": 4,
 "nbformat_minor": 2
}
