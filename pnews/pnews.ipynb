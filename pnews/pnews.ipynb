{
 "cells": [
  {
   "cell_type": "markdown",
   "metadata": {},
   "source": [
    "# Init"
   ]
  },
  {
   "cell_type": "code",
   "execution_count": 1,
   "metadata": {},
   "outputs": [
    {
     "name": "stdout",
     "output_type": "stream",
     "text": [
      "/home/jovyan/work/R/nginx-flask-plumber\n"
     ]
    }
   ],
   "source": [
    "import sys\n",
    "import os\n",
    "import io\n",
    "import shutil\n",
    "import logging, logging.config, yaml\n",
    "from logging.handlers import RotatingFileHandler\n",
    "from logging import Formatter, FileHandler, StreamHandler\n",
    "import json\n",
    "import pandas as pd\n",
    "import numpy as np\n",
    "import string\n",
    "from io import StringIO\n",
    "import random\n",
    "import math\n",
    "import time\n",
    "import re\n",
    "from datetime import datetime\n",
    "from datetime import date\n",
    "from datetime import timedelta\n",
    "from datetime import timezone\n",
    "from pytz import timezone\n",
    "import pytz\n",
    "import pause\n",
    "import humanfriendly\n",
    "from bs4 import BeautifulSoup\n",
    "from tabulate import tabulate\n",
    "from selenium import webdriver\n",
    "from selenium.webdriver.common.desired_capabilities import DesiredCapabilities\n",
    "from selenium.webdriver.common.keys import Keys\n",
    "from selenium.webdriver.common.by import By\n",
    "from selenium.webdriver.support.ui import WebDriverWait\n",
    "from selenium.webdriver.support import expected_conditions as EC\n",
    "from flask import Flask, session, render_template, request, jsonify, redirect, g, url_for\n",
    "import requests\n",
    "from helpers import create_payload, post_text_data, accept_text_data\n",
    "working_time_zone='Europe/Kiev'\n",
    "alpari_date_format=\"%m/%d/%Y\"\n",
    "fh_time_format=\"%Y-%m-%d %H:%M:%S\"\n",
    "fh_date_format='%Y-%m-%d'\n",
    "os.environ['TZ'] = working_time_zone\n",
    "time.tzset()\n",
    "work_dir=os.getcwd()\n",
    "if 'nginx-flask-plumber' != os.path.basename(work_dir):\n",
    "    os.chdir(os.path.dirname(work_dir))\n",
    "work_dir=os.getcwd()\n",
    "print(work_dir)"
   ]
  },
  {
   "cell_type": "code",
   "execution_count": 2,
   "metadata": {},
   "outputs": [
    {
     "name": "stdout",
     "output_type": "stream",
     "text": [
      "/home/jovyan/work/R/nginx-flask-plumber/nginx-flask-plumber.log\n"
     ]
    }
   ],
   "source": [
    "app = Flask(__name__)\n",
    "app.debug = True\n",
    "log_file=os.path.join(work_dir, os.path.basename(work_dir) + '.log')\n",
    "print(log_file)\n",
    "#open(log_file, 'w').close()\n",
    "#os.chmod(log_file, 0o665)\n",
    "formatter = Formatter('%(asctime)s:%(levelname)s:%(module)s:%(funcName)s:%(lineno)d:%(message)s', \n",
    "                              datefmt=fh_time_format)\n",
    "handler = RotatingFileHandler(log_file, maxBytes=10000, backupCount=1)\n",
    "handler.setLevel(logging.INFO)\n",
    "handler.setFormatter(formatter)\n",
    "app.logger.addHandler(handler)"
   ]
  },
  {
   "cell_type": "markdown",
   "metadata": {},
   "source": [
    "# Flask routes"
   ]
  },
  {
   "cell_type": "code",
   "execution_count": 3,
   "metadata": {},
   "outputs": [],
   "source": [
    "# Main page\n",
    "# curl -i http://localhost:80/pnews/\n",
    "@app.route('/')\n",
    "def flask_index():\n",
    "    app.logger.info(\"main page opened.\")\n",
    "    return \"Service pnews (language python) is ready!\\r\\n\"\n",
    "# Health check\n",
    "# curl -i http://localhost:80/pnews/health\n",
    "@app.route('/health')\n",
    "def flask_health():\n",
    "    app.logger.info(\"checked.\")\n",
    "    return 'Healthy\\r\\n'\n",
    "# Echo\n",
    "# curl -i http://localhost:80/pnews/echo?msg=hello\n",
    "@app.route('/echo', methods=['GET'])\n",
    "def flask_echo(): \n",
    "    msg=request.args.get('msg', '')\n",
    "    app.logger.info(msg)\n",
    "    return jsonify(msg='The message is: \"' + msg + '\"\\r\\n')\n",
    "# Pause \n",
    "# curl -i http://localhost:80/pnews/pause/2\n",
    "@app.route('/pause/<int:duration>', methods=['GET'])\n",
    "def flask_pause(duration):\n",
    "    app.logger.info(\"Pause \" + str(duration) + \" seconds\")\n",
    "    dt=datetime.now()+timedelta(seconds=duration)\n",
    "    pause.until(dt)\n",
    "    return \"Pause of \" + str(duration) + ' seconds finished'\n",
    "@app.route('/browser_session')\n",
    "def flask_browser_session():\n",
    "    driver=open_browser()\n",
    "    close_browser(driver)\n",
    "    msg=\"browser session stopped\"\n",
    "    app.logger.info(msg)\n",
    "    return msg\n",
    "# @app.route('/open_browser')\n",
    "# def flask_open_browser():\n",
    "#     driver=open_browser()\n",
    "#     session['driver']=driver\n",
    "#     return 'browser opened see log for text content'\n",
    "# @app.route('/close_browser')\n",
    "# def flask_close_browser():\n",
    "#     driver=session['driver']\n",
    "#     close_browser(driver)\n",
    "#     return \"closed\"\n",
    "@app.route('/test_connectivity', methods=['POST'])\n",
    "def flask_test_connectivity():\n",
    "    app.logger.info('started')\n",
    "    r=post_text_data('df', 'http://rnews:5000')\n",
    "    if r.status_code == 200:\n",
    "        msg='finished successfully'\n",
    "    else:\n",
    "        msg=\"error from rnews\"\n",
    "    app.logger.info(msg)\n",
    "    return jsonify(msg)\n",
    "@app.route('/text_message', methods=('POST',))\n",
    "def flask_text_message():\n",
    "    head=[]\n",
    "    try:\n",
    "        json=request.get_json()#.get('thing2')\n",
    "        df=accept_text_data(json)\n",
    "        head=df.head()\n",
    "    except:\n",
    "        msg='Bad payload'\n",
    "        app.logger.info(msg)\n",
    "        return msg\n",
    "    output = StringIO()\n",
    "    output.write(head.to_csv(index=False))\n",
    "    msg=output.getvalue()\n",
    "    output.close()    \n",
    "    app.logger.info(\"\\r\\n\" + msg)\n",
    "    return jsonify('message accepted')"
   ]
  },
  {
   "cell_type": "code",
   "execution_count": 4,
   "metadata": {},
   "outputs": [],
   "source": [
    "def open_browser(sleep_time=10):\n",
    "    app.logger.info('start opening browser')\n",
    "    cap = DesiredCapabilities.CHROME\n",
    "    driver = webdriver.Remote(command_executor='http://selenium-hub:4444/wd/hub',desired_capabilities=cap) \n",
    "    url=\"https://www.google.com\"\n",
    "    app.logger.info('Opening URL: ' + url + ' waiting approximately ' + str(sleep_time) + ' seconds')\n",
    "    driver.get(url)\n",
    "    wait = WebDriverWait(driver, sleep_time)\n",
    "    element = wait.until(EC.visibility_of_element_located((By.CSS_SELECTOR, '.gLFyf')))    \n",
    "    app.logger.info('done')\n",
    "    text=driver.find_element_by_xpath(\"html\").text\n",
    "    app.logger.info(\"Resulting text\\r\\n\" + text)\n",
    "    return driver\n",
    "def close_browser(driver):\n",
    "    driver.quit()\n",
    "    app.logger.info(\"closed\")"
   ]
  },
  {
   "cell_type": "markdown",
   "metadata": {},
   "source": [
    "# Main"
   ]
  },
  {
   "cell_type": "code",
   "execution_count": null,
   "metadata": {},
   "outputs": [],
   "source": [
    "if __name__ == '__main__':\n",
    "    app.run(host='0.0.0.0', port=5000) # open url http://0.0.0.0:5000/"
   ]
  },
  {
   "cell_type": "code",
   "execution_count": null,
   "metadata": {},
   "outputs": [],
   "source": [
    "# url=\"http://pnews:5000\"\n",
    "# r = requests.get(os.path.join(url, 'open_browser'))\n",
    "# r.status_code == requests.codes.ok"
   ]
  },
  {
   "cell_type": "code",
   "execution_count": null,
   "metadata": {},
   "outputs": [],
   "source": []
  },
  {
   "cell_type": "code",
   "execution_count": 10,
   "metadata": {},
   "outputs": [
    {
     "name": "stdout",
     "output_type": "stream",
     "text": [
      "<Response [200]>\n"
     ]
    }
   ],
   "source": [
    "url=\"http://rnews:5000\"\n",
    "r = requests.get(os.path.join(url, 'update'), params={'resource':'news'})\n",
    "print(r)"
   ]
  },
  {
   "cell_type": "code",
   "execution_count": 11,
   "metadata": {},
   "outputs": [
    {
     "data": {
      "text/plain": [
       "'2019-02-01 11:55:15'"
      ]
     },
     "execution_count": 11,
     "metadata": {},
     "output_type": "execute_result"
    }
   ],
   "source": [
    "r.text"
   ]
  },
  {
   "cell_type": "code",
   "execution_count": 12,
   "metadata": {},
   "outputs": [],
   "source": [
    "r=post_text_data(data_type=\"sr\", url=\"http://rnews:5000\", endpoint=\"update\")"
   ]
  },
  {
   "cell_type": "code",
   "execution_count": 13,
   "metadata": {},
   "outputs": [
    {
     "name": "stdout",
     "output_type": "stream",
     "text": [
      "<Response [200]>\n"
     ]
    },
    {
     "data": {
      "text/plain": [
       "'test for update service passed'"
      ]
     },
     "execution_count": 13,
     "metadata": {},
     "output_type": "execute_result"
    }
   ],
   "source": [
    "print(r)\n",
    "r.text"
   ]
  },
  {
   "cell_type": "code",
   "execution_count": null,
   "metadata": {},
   "outputs": [],
   "source": [
    "r.status_code == requests.codes.ok"
   ]
  },
  {
   "cell_type": "code",
   "execution_count": null,
   "metadata": {},
   "outputs": [],
   "source": [
    "r.json()[0] == 'message accepted'"
   ]
  },
  {
   "cell_type": "code",
   "execution_count": 14,
   "metadata": {},
   "outputs": [
    {
     "data": {
      "text/plain": [
       "{'spec': 'sr',\n",
       " 'text': 'dt,number,value\\n2019-01-24 00:00:00,0,27\\n2019-01-24 01:00:00,1,39\\n2019-01-24 02:00:00,2,31\\n2019-01-24 03:00:00,3,16\\n2019-01-24 04:00:00,4,96\\n'}"
      ]
     },
     "execution_count": 14,
     "metadata": {},
     "output_type": "execute_result"
    }
   ],
   "source": [
    "create_payload()"
   ]
  },
  {
   "cell_type": "code",
   "execution_count": null,
   "metadata": {},
   "outputs": [],
   "source": [
    "assert r.status_code == requests.codes.ok\n",
    "assert r.text.strip() == 'message accepted'"
   ]
  }
 ],
 "metadata": {
  "kernelspec": {
   "display_name": "Python 3",
   "language": "python",
   "name": "python3"
  },
  "language_info": {
   "codemirror_mode": {
    "name": "ipython",
    "version": 3
   },
   "file_extension": ".py",
   "mimetype": "text/x-python",
   "name": "python",
   "nbconvert_exporter": "python",
   "pygments_lexer": "ipython3",
   "version": "3.6.7"
  }
 },
 "nbformat": 4,
 "nbformat_minor": 2
}
