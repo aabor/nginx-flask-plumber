{
 "cells": [
  {
   "cell_type": "markdown",
   "metadata": {},
   "source": [
    "# Init"
   ]
  },
  {
   "cell_type": "code",
   "execution_count": 59,
   "metadata": {},
   "outputs": [
    {
     "name": "stdout",
     "output_type": "stream",
     "text": [
      "/home/jovyan/work/R/nginx-flask-plumber\n"
     ]
    }
   ],
   "source": [
    "import sys\n",
    "import os\n",
    "import io\n",
    "import shutil\n",
    "import logging, logging.config, yaml\n",
    "from logging.handlers import RotatingFileHandler\n",
    "from logging import Formatter, FileHandler, StreamHandler\n",
    "import json\n",
    "import pandas as pd\n",
    "import numpy as np\n",
    "import string\n",
    "from io import StringIO\n",
    "import random\n",
    "import math\n",
    "import time\n",
    "import re\n",
    "from datetime import datetime\n",
    "from datetime import date\n",
    "from datetime import timedelta\n",
    "from datetime import timezone\n",
    "from pytz import timezone\n",
    "import pytz\n",
    "import pause\n",
    "import humanfriendly\n",
    "from bs4 import BeautifulSoup\n",
    "from tabulate import tabulate\n",
    "from selenium import webdriver\n",
    "from selenium.webdriver.common.desired_capabilities import DesiredCapabilities\n",
    "from selenium.webdriver.common.keys import Keys\n",
    "from selenium.webdriver.common.by import By\n",
    "from selenium.webdriver.support.ui import WebDriverWait\n",
    "from selenium.webdriver.support import expected_conditions as EC\n",
    "from flask import Flask, session, render_template, request, jsonify, redirect, g, url_for\n",
    "import requests\n",
    "working_time_zone='Europe/Kiev'\n",
    "alpari_date_format=\"%m/%d/%Y\"\n",
    "fh_time_format=\"%Y-%m-%d %H:%M:%S\"\n",
    "fh_date_format='%Y-%m-%d'\n",
    "os.environ['TZ'] = working_time_zone\n",
    "time.tzset()\n",
    "work_dir=os.getcwd()\n",
    "if 'nginx-flask-plumber' != os.path.basename(work_dir):\n",
    "    os.chdir(os.path.dirname(work_dir))\n",
    "work_dir=os.getcwd()\n",
    "print(work_dir)"
   ]
  },
  {
   "cell_type": "code",
   "execution_count": 60,
   "metadata": {},
   "outputs": [
    {
     "name": "stdout",
     "output_type": "stream",
     "text": [
      "/home/jovyan/work/R/nginx-flask-plumber/nginx-flask-plumber.log\n"
     ]
    }
   ],
   "source": [
    "app = Flask(__name__)\n",
    "app.debug = True\n",
    "log_file=os.path.join(work_dir, os.path.basename(work_dir) + '.log')\n",
    "print(log_file)\n",
    "open(log_file, 'w').close()\n",
    "os.chmod(log_file, 0o665)\n",
    "formatter = Formatter('%(asctime)s:%(levelname)s:%(module)s:%(funcName)s:%(lineno)d:%(message)s', \n",
    "                              datefmt=fh_time_format)\n",
    "handler = RotatingFileHandler(log_file, maxBytes=10000, backupCount=1)\n",
    "handler.setLevel(logging.INFO)\n",
    "handler.setFormatter(formatter)\n",
    "app.logger.addHandler(handler)"
   ]
  },
  {
   "cell_type": "markdown",
   "metadata": {},
   "source": [
    "# Flask routes"
   ]
  },
  {
   "cell_type": "code",
   "execution_count": 61,
   "metadata": {},
   "outputs": [],
   "source": [
    "# Main page\n",
    "# curl -i http://localhost:80/pnews/\n",
    "@app.route('/')\n",
    "def flask_index():\n",
    "    app.logger.info(\"main page opened.\")\n",
    "    return \"Service pnews (language python) is ready!\\r\\n\"\n",
    "# Health check\n",
    "# curl -i http://localhost:80/pnews/health\n",
    "@app.route('/health')\n",
    "def flask_health():\n",
    "    app.logger.info(\"checked.\")\n",
    "    return 'Healthy\\r\\n'\n",
    "# Echo\n",
    "# curl -i http://localhost:80/pnews/echo?msg=hello\n",
    "@app.route('/echo', methods=['GET'])\n",
    "def flask_echo(): \n",
    "    msg=request.args.get('msg', '')\n",
    "    app.logger.info(msg)\n",
    "    return jsonify(msg='The message is: \"' + msg + '\"\\r\\n')\n",
    "# Pause \n",
    "# curl -i http://localhost:80/pnews/pause/2\n",
    "@app.route('/pause/<int:duration>', methods=['GET'])\n",
    "def flask_pause(duration):\n",
    "    app.logger.info(\"Pause \" + str(duration) + \" seconds\")\n",
    "    dt=datetime.now()+timedelta(seconds=duration)\n",
    "    pause.until(dt)\n",
    "    return \"Pause of \" + str(duration) + ' seconds finished'\n",
    "@app.route('/browser_session')\n",
    "def flask_browser_session():\n",
    "    driver=open_browser()\n",
    "    close_browser(driver)\n",
    "    msg=\"browser session stopped\"\n",
    "    app.logger.info(msg)\n",
    "    return msg\n",
    "# @app.route('/open_browser')\n",
    "# def flask_open_browser():\n",
    "#     driver=open_browser()\n",
    "#     session['driver']=driver\n",
    "#     return 'browser opened see log for text content'\n",
    "# @app.route('/close_browser')\n",
    "# def flask_close_browser():\n",
    "#     driver=session['driver']\n",
    "#     close_browser(driver)\n",
    "#     return \"closed\"\n",
    "@app.route('/test_connectivity')\n",
    "def flask_test_connectivity():\n",
    "    app.logger.info('started')\n",
    "    msg='finished successfully'\n",
    "    app.logger.info(msg)\n",
    "    return msg\n",
    "@app.route('/text_message', methods=('POST',))\n",
    "def flask_text_message():\n",
    "    head=[]\n",
    "    try:\n",
    "        json=request.get_json()#.get('thing2')\n",
    "        df=accept_text_data(json)\n",
    "        head=df.head()\n",
    "    except:\n",
    "        msg='Bad payload'\n",
    "        app.logger.info(msg)\n",
    "        return msg\n",
    "    output = StringIO()\n",
    "    output.write(head.to_csv(index=False))\n",
    "    msg=output.getvalue()\n",
    "    output.close()    \n",
    "    app.logger.info(\"\\r\\n\" + msg)\n",
    "    return msg"
   ]
  },
  {
   "cell_type": "markdown",
   "metadata": {},
   "source": [
    "# Testing"
   ]
  },
  {
   "cell_type": "code",
   "execution_count": 62,
   "metadata": {},
   "outputs": [],
   "source": [
    "def create_test_df():\n",
    "    date_rng = pd.date_range(start='2019-01-24', end='2019-01-25', freq='H')\n",
    "    l=len(date_rng)\n",
    "    dts = pd.to_datetime(date_rng, format=fh_time_format)  \n",
    "    hashes=[''.join(random.choice(string.ascii_uppercase + string.digits) for _ in range(3)) for x in range(l)]\n",
    "    ns=list(range(l))\n",
    "    vs=random.sample(range(100), l)\n",
    "    d={'dt': dts, \"event\":hashes, \"number\": ns, \"value\": vs}\n",
    "    df=pd.DataFrame(d)\n",
    "    df['dt']=[dt.strftime('%Y-%m-%d %H:%M:%S') for dt in df.dt]\n",
    "    return df"
   ]
  },
  {
   "cell_type": "code",
   "execution_count": 63,
   "metadata": {},
   "outputs": [],
   "source": [
    "def create_test_series():\n",
    "    date_rng = pd.date_range(start='2019-01-24', end='2019-01-25', freq='H')\n",
    "    l=len(date_rng)\n",
    "    dts = pd.to_datetime(date_rng, format=fh_time_format)  \n",
    "    ns=list(range(l))\n",
    "    vs=random.sample(range(100), l)\n",
    "    d={'dt': dts, \"number\": ns, \"value\": vs}\n",
    "    df=pd.DataFrame(d)\n",
    "    df['dt']=[dt.strftime('%Y-%m-%d %H:%M:%S') for dt in df.dt]\n",
    "    return df"
   ]
  },
  {
   "cell_type": "code",
   "execution_count": 104,
   "metadata": {},
   "outputs": [],
   "source": [
    "def create_payload(data_type=\"sr\"):\n",
    "    if data_type not in ['sr', 'df']:\n",
    "        raise Exception(\"Invalid data_type! \" + data_type)\n",
    "        return None\n",
    "    output = StringIO()\n",
    "    if data_type == \"df\":\n",
    "        df=create_test_df()\n",
    "        output.write(df.to_csv(index=False))\n",
    "    if data_type == 'sr':\n",
    "        sr=create_test_series()\n",
    "        output.write(sr.to_csv(index=False))\n",
    "    payload = {\"spec\":data_type, \"text\":output.getvalue()}\n",
    "    output.close()\n",
    "    return payload\n",
    "def post_text_data(data_type=\"sr\", url=\"http://pnews:5000\"):\n",
    "    payload=create_payload(data_type)\n",
    "    data=json.dumps(payload)\n",
    "    url_path=os.path.join(url, \"text_message\")\n",
    "    headers = {'Content-Type': 'application/json',}\n",
    "    r = requests.post(url_path, data=data, headers=headers)\n",
    "    if r.status_code == requests.codes.ok:\n",
    "        app.logger.info('data of type '+ data_type + ' posted to ' + url_path)\n",
    "    return r.status_code\n",
    "def accept_text_data(payload):\n",
    "    output = StringIO(payload['text'])\n",
    "    msg=output.getvalue()\n",
    "    df=pd.read_csv(output)\n",
    "    output.close()    \n",
    "    return df"
   ]
  },
  {
   "cell_type": "code",
   "execution_count": 91,
   "metadata": {},
   "outputs": [],
   "source": [
    "def write_request_json(out_file='test.json'):\n",
    "    df=create_test_df()\n",
    "    df.head()\n",
    "    df.to_json(out_file)\n",
    "    df1=pd.read_json(out_file)\n",
    "    df1.head()"
   ]
  },
  {
   "cell_type": "code",
   "execution_count": 92,
   "metadata": {},
   "outputs": [],
   "source": [
    "def read_response_json(in_file='response.json'):\n",
    "    df=pd.read_json(in_file)\n",
    "    df.head()"
   ]
  },
  {
   "cell_type": "markdown",
   "metadata": {},
   "source": [
    "# Browser automation"
   ]
  },
  {
   "cell_type": "code",
   "execution_count": 93,
   "metadata": {},
   "outputs": [],
   "source": [
    "def open_browser(sleep_time=10):\n",
    "    app.logger.info('start opening browser')\n",
    "    cap = DesiredCapabilities.CHROME\n",
    "    driver = webdriver.Remote(command_executor='http://selenium-hub:4444/wd/hub',desired_capabilities=cap) \n",
    "    url=\"https://www.google.com\"\n",
    "    app.logger.info('Opening URL: ' + url + ' waiting approximately ' + str(sleep_time) + ' seconds')\n",
    "    driver.get(url)\n",
    "    wait = WebDriverWait(driver, sleep_time)\n",
    "    element = wait.until(EC.visibility_of_element_located((By.CSS_SELECTOR, '.gLFyf')))    \n",
    "    app.logger.info('done')\n",
    "    text=driver.find_element_by_xpath(\"html\").text\n",
    "    app.logger.info(\"Resulting text\\r\\n\" + text)\n",
    "    return driver\n",
    "def close_browser(driver):\n",
    "    driver.quit()\n",
    "    app.logger.info(\"closed\")"
   ]
  },
  {
   "cell_type": "markdown",
   "metadata": {},
   "source": [
    "# Main"
   ]
  },
  {
   "cell_type": "code",
   "execution_count": null,
   "metadata": {},
   "outputs": [
    {
     "name": "stdout",
     "output_type": "stream",
     "text": [
      " * Serving Flask app \"__main__\" (lazy loading)\n",
      " * Environment: production\n",
      "   WARNING: Do not use the development server in a production environment.\n",
      "   Use a production WSGI server instead.\n",
      " * Debug mode: off\n"
     ]
    },
    {
     "name": "stderr",
     "output_type": "stream",
     "text": [
      " * Running on http://0.0.0.0:5000/ (Press CTRL+C to quit)\n"
     ]
    }
   ],
   "source": [
    "if __name__ == '__main__':\n",
    "    app.run(host='0.0.0.0', port=5000) # open url http://0.0.0.0:5000/"
   ]
  },
  {
   "cell_type": "code",
   "execution_count": 17,
   "metadata": {},
   "outputs": [
    {
     "name": "stdout",
     "output_type": "stream",
     "text": [
      "/home/jovyan/work/R/nginx-flask-plumber\n",
      "/home/jovyan/work/R/nginx-flask-plumber\n",
      "/home/jovyan/work/R/nginx-flask-plumber/nginx-flask-plumber.log\n"
     ]
    }
   ],
   "source": [
    "# url=\"http://pnews:5000\"\n",
    "# r = requests.get(os.path.join(url, 'open_browser'))\n",
    "# r.status_code == requests.codes.ok"
   ]
  },
  {
   "cell_type": "code",
   "execution_count": 11,
   "metadata": {},
   "outputs": [],
   "source": [
    "code=post_text_data('sr')"
   ]
  },
  {
   "cell_type": "code",
   "execution_count": 11,
   "metadata": {},
   "outputs": [],
   "source": [
    "if r.status_code == requests.codes.ok:\n",
    "    app.logger.info('data of type '+ data_type + 'posted to ' + url_path)\n",
    "#  r.text"
   ]
  },
  {
   "cell_type": "code",
   "execution_count": null,
   "metadata": {},
   "outputs": [],
   "source": [
    "# print(os.getcwd())\n",
    "# file = open('error.html','w') \n",
    "# file.write(r.text) \n",
    "# file.close() "
   ]
  },
  {
   "cell_type": "code",
   "execution_count": 102,
   "metadata": {},
   "outputs": [],
   "source": [
    "data_type=\"sr\"\n",
    "url=\"http://pnews:5000\"\n",
    "payload=create_payload(data_type)\n",
    "data=json.dumps(payload)\n",
    "url_path=os.path.join(url, \"text_message\")\n",
    "headers = {'Content-Type': 'application/json',}\n",
    "r = requests.post(url_path, data=data, headers=headers)"
   ]
  },
  {
   "cell_type": "code",
   "execution_count": 108,
   "metadata": {},
   "outputs": [
    {
     "data": {
      "text/plain": [
       "404"
      ]
     },
     "execution_count": 108,
     "metadata": {},
     "output_type": "execute_result"
    }
   ],
   "source": [
    "post_text_data('df', 'http://rnews:5000/text_message')"
   ]
  },
  {
   "cell_type": "code",
   "execution_count": 44,
   "metadata": {},
   "outputs": [
    {
     "data": {
      "text/html": [
       "<div>\n",
       "<style scoped>\n",
       "    .dataframe tbody tr th:only-of-type {\n",
       "        vertical-align: middle;\n",
       "    }\n",
       "\n",
       "    .dataframe tbody tr th {\n",
       "        vertical-align: top;\n",
       "    }\n",
       "\n",
       "    .dataframe thead th {\n",
       "        text-align: right;\n",
       "    }\n",
       "</style>\n",
       "<table border=\"1\" class=\"dataframe\">\n",
       "  <thead>\n",
       "    <tr style=\"text-align: right;\">\n",
       "      <th></th>\n",
       "      <th>\"index</th>\n",
       "      <th>x</th>\n",
       "      <th>y</th>\n",
       "    </tr>\n",
       "  </thead>\n",
       "  <tbody>\n",
       "    <tr>\n",
       "      <th>0</th>\n",
       "      <td>, 2019-01-31 12:13:30</td>\n",
       "      <td>-1.415955</td>\n",
       "      <td>0.864118</td>\n",
       "    </tr>\n",
       "    <tr>\n",
       "      <th>1</th>\n",
       "      <td>, 2019-01-31 12:13:31</td>\n",
       "      <td>-1.401794</td>\n",
       "      <td>-0.704950</td>\n",
       "    </tr>\n",
       "    <tr>\n",
       "      <th>2</th>\n",
       "      <td>, 2019-01-31 12:13:32</td>\n",
       "      <td>-1.435208</td>\n",
       "      <td>0.916722</td>\n",
       "    </tr>\n",
       "    <tr>\n",
       "      <th>3</th>\n",
       "      <td>, 2019-01-31 12:13:33</td>\n",
       "      <td>0.164022</td>\n",
       "      <td>-0.414343</td>\n",
       "    </tr>\n",
       "    <tr>\n",
       "      <th>4</th>\n",
       "      <td>, 2019-01-31 12:13:34</td>\n",
       "      <td>1.054146</td>\n",
       "      <td>-1.048713</td>\n",
       "    </tr>\n",
       "    <tr>\n",
       "      <th>5</th>\n",
       "      <td>, 2019-01-31 12:13:35</td>\n",
       "      <td>-0.706376</td>\n",
       "      <td>-0.816655</td>\n",
       "    </tr>\n",
       "    <tr>\n",
       "      <th>6</th>\n",
       "      <td>, 2019-01-31 12:13:36</td>\n",
       "      <td>0.083785</td>\n",
       "      <td>1.028604</td>\n",
       "    </tr>\n",
       "    <tr>\n",
       "      <th>7</th>\n",
       "      <td>, 2019-01-31 12:13:37</td>\n",
       "      <td>-0.940142</td>\n",
       "      <td>-1.367651</td>\n",
       "    </tr>\n",
       "    <tr>\n",
       "      <th>8</th>\n",
       "      <td>, 2019-01-31 12:13:38</td>\n",
       "      <td>0.748499</td>\n",
       "      <td>-0.531278</td>\n",
       "    </tr>\n",
       "    <tr>\n",
       "      <th>9</th>\n",
       "      <td>, 2019-01-31 12:13:39</td>\n",
       "      <td>-3.357793</td>\n",
       "      <td>0.897892</td>\n",
       "    </tr>\n",
       "    <tr>\n",
       "      <th>10</th>\n",
       "      <td>NaN</td>\n",
       "      <td>NaN</td>\n",
       "      <td>NaN</td>\n",
       "    </tr>\n",
       "  </tbody>\n",
       "</table>\n",
       "</div>"
      ],
      "text/plain": [
       "                   \"index         x         y\n",
       "0   , 2019-01-31 12:13:30 -1.415955  0.864118\n",
       "1   , 2019-01-31 12:13:31 -1.401794 -0.704950\n",
       "2   , 2019-01-31 12:13:32 -1.435208  0.916722\n",
       "3   , 2019-01-31 12:13:33  0.164022 -0.414343\n",
       "4   , 2019-01-31 12:13:34  1.054146 -1.048713\n",
       "5   , 2019-01-31 12:13:35 -0.706376 -0.816655\n",
       "6   , 2019-01-31 12:13:36  0.083785  1.028604\n",
       "7   , 2019-01-31 12:13:37 -0.940142 -1.367651\n",
       "8   , 2019-01-31 12:13:38  0.748499 -0.531278\n",
       "9   , 2019-01-31 12:13:39 -3.357793  0.897892\n",
       "10                    NaN       NaN       NaN"
      ]
     },
     "execution_count": 44,
     "metadata": {},
     "output_type": "execute_result"
    }
   ],
   "source": [
    "accept_text_data()"
   ]
  }
 ],
 "metadata": {
  "kernelspec": {
   "display_name": "Python 3",
   "language": "python",
   "name": "python3"
  },
  "language_info": {
   "codemirror_mode": {
    "name": "ipython",
    "version": 3
   },
   "file_extension": ".py",
   "mimetype": "text/x-python",
   "name": "python",
   "nbconvert_exporter": "python",
   "pygments_lexer": "ipython3",
   "version": "3.6.7"
  }
 },
 "nbformat": 4,
 "nbformat_minor": 2
}
