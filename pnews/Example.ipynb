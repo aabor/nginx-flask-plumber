{
 "cells": [
  {
   "cell_type": "code",
   "execution_count": 15,
   "metadata": {},
   "outputs": [],
   "source": [
    "import os\n",
    "import pytest\n",
    "import ipytest\n",
    "\n",
    "# enable IPython magics for test execution\n",
    "import ipytest.magics\n",
    "\n",
    "# enable pytest's assertions\n",
    "ipytest.config.rewrite_asserts = True\n",
    "\n",
    "# set the filename\n",
    "__file__ = 'Example.ipynb'"
   ]
  },
  {
   "cell_type": "code",
   "execution_count": 2,
   "metadata": {},
   "outputs": [],
   "source": [
    "def my_func(x):\n",
    "    return x // 2 * 2 "
   ]
  },
  {
   "cell_type": "markdown",
   "metadata": {},
   "source": [
    "# Execute all tests"
   ]
  },
  {
   "cell_type": "code",
   "execution_count": 3,
   "metadata": {},
   "outputs": [],
   "source": [
    "# define the tests\n",
    "\n",
    "def test_my_func():\n",
    "    assert my_func(0) == 0\n",
    "    assert my_func(1) == 0\n",
    "    assert my_func(2) == 2\n",
    "    assert my_func(3) == 2\n",
    "    \n",
    "    \n",
    "@pytest.mark.parametrize('input,expected', [\n",
    "    (0, 0),\n",
    "    (1, 0),\n",
    "    (2, 2),\n",
    "    (3, 2),\n",
    "])\n",
    "def test_parametrized(input, expected):\n",
    "    assert my_func(input) == expected\n",
    "    \n",
    "    \n",
    "@pytest.fixture\n",
    "def my_fixture():\n",
    "    return 42\n",
    "    \n",
    "    \n",
    "def test_fixture(my_fixture):\n",
    "    assert my_fixture == 42"
   ]
  },
  {
   "cell_type": "code",
   "execution_count": 28,
   "metadata": {},
   "outputs": [
    {
     "name": "stdout",
     "output_type": "stream",
     "text": [
      "============================= test session starts ==============================\n",
      "platform linux -- Python 3.6.7, pytest-4.1.1, py-1.7.0, pluggy-0.8.1\n",
      "rootdir: /home/jovyan/work/R/nginx-flask-plumber/pnews, inifile:\n",
      "collected 1 item\n",
      "\n",
      "Example.py .                                                             [100%]\n",
      "\n",
      "=========================== 1 passed in 0.01 seconds ===========================\n"
     ]
    }
   ],
   "source": [
    "# execute the tests via pytest, arguments are passed to pytest\n",
    "ipytest.run()"
   ]
  },
  {
   "cell_type": "markdown",
   "metadata": {},
   "source": [
    "# Execute only tests in the current cell"
   ]
  },
  {
   "cell_type": "markdown",
   "metadata": {},
   "source": [
    "By removing any tests previously defined using `clean_tests`:"
   ]
  },
  {
   "cell_type": "code",
   "execution_count": 5,
   "metadata": {},
   "outputs": [
    {
     "name": "stdout",
     "output_type": "stream",
     "text": [
      ".                                                                        [100%]\n"
     ]
    }
   ],
   "source": [
    "ipytest.clean_tests()\n",
    "\n",
    "@pytest.fixture\n",
    "def my_fixture():\n",
    "    return 42\n",
    "    \n",
    "    \n",
    "def test_fixture(my_fixture):\n",
    "    assert my_fixture == 42\n",
    "    \n",
    "ipytest.run('-qq')"
   ]
  },
  {
   "cell_type": "markdown",
   "metadata": {},
   "source": [
    "By using ipytest's magics:"
   ]
  },
  {
   "cell_type": "code",
   "execution_count": 6,
   "metadata": {},
   "outputs": [
    {
     "name": "stdout",
     "output_type": "stream",
     "text": [
      ".                                                                        [100%]\n"
     ]
    }
   ],
   "source": [
    "%%run_pytest[clean] -qq\n",
    "\n",
    "def test_my_func():\n",
    "    assert my_func(0) == 0\n",
    "    assert my_func(1) == 0\n",
    "    assert my_func(2) == 2\n",
    "    assert my_func(3) == 2"
   ]
  },
  {
   "cell_type": "code",
   "execution_count": null,
   "metadata": {},
   "outputs": [],
   "source": []
  }
 ],
 "metadata": {
  "kernelspec": {
   "display_name": "Python 3",
   "language": "python",
   "name": "python3"
  },
  "language_info": {
   "codemirror_mode": {
    "name": "ipython",
    "version": 3
   },
   "file_extension": ".py",
   "mimetype": "text/x-python",
   "name": "python",
   "nbconvert_exporter": "python",
   "pygments_lexer": "ipython3",
   "version": "3.6.7"
  }
 },
 "nbformat": 4,
 "nbformat_minor": 2
}
